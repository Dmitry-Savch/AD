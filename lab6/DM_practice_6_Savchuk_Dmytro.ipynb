{
 "nbformat": 4,
 "nbformat_minor": 0,
 "metadata": {
  "colab": {
   "provenance": []
  },
  "kernelspec": {
   "name": "python3",
   "display_name": "Python 3 (ipykernel)",
   "language": "python"
  },
  "language_info": {
   "name": "python"
  }
 },
 "cells": [
  {
   "cell_type": "markdown",
   "source": [
    "# **Лабораторна робота 6: Пошук аномалій та вирішення задачі *anomaly detection* за допомогою бібліотек `scikit-learn`та `PyTorch`**\n",
    "**Всі завдання виконуються індивідуально. Використання запозиченого коду буде оцінюватись в 0 балів.**\n",
    "\n",
    "**Лабораторні роботи де в коді буде використаня КИРИЛИЦІ будуть оцінюватись в 20 балів.**"
   ],
   "metadata": {
    "id": "1i8adKFQS7E-"
   }
  },
  {
   "cell_type": "markdown",
   "source": [
    "### Мета роботи:\n",
    "Ознайомитися з основними методами виявлення аномалій, навчитися використовувати бібліотеки `scikit-learn` та `PyTorch` для реалізації алгоритмів пошуку аномалій, проаналізувати ефективність різних методів на реальних наборах даних з Kaggle.\n",
    "\n",
    "\n",
    "### Опис завдання:\n",
    "\n",
    "1. **Постановка задачі**:\n",
    "   Використовуючи один із доступних наборів даних Kaggle (наприклад, *Credit Card Fraud Detection*, *Network Intrusion*, або інші), вам потрібно розв'язати задачу виявлення аномалій. Основна мета — ідентифікувати аномальні записи серед нормальних. Вибраний набір даних повинен містити мітки аномалій для перевірки результатів.\n",
    "\n",
    "2. **Етапи виконання завдання**:\n",
    "   - Завантажте та підготуйте набір даних.\n",
    "   - Проведіть попередню обробку даних (масштабування, заповнення пропущених значень, видалення нерелевантних ознак).\n",
    "   - Використайте різні методи виявлення аномалій:\n",
    "     - **Методи з бібліотеки scikit-learn**:\n",
    "       - Isolation Forest\n",
    "       - One-Class SVM\n",
    "       - Local Outlier Factor (LOF)\n",
    "     - **Методи з використанням PyTorch**:\n",
    "       - Автоенкодери для виявлення аномалій.\n",
    "   - Порівняйте отримані результати, обчисліть метрики якості (Precision, Recall, F1-Score).\n",
    "   - Оцініть, який метод найкраще підходить для вирішення задачі на вашому наборі даних.\n",
    "\n",
    "### Покрокова інструкція\n",
    "\n",
    "1. **Підготовка середовища**:\n",
    "   - Встановіть необхідні бібліотеки:\n",
    "     ```\n",
    "     pip install scikit-learn torch pandas numpy matplotlib\n",
    "     ```\n",
    "\n",
    "2. **Вибір набору даних з Kaggle**:\n",
    "   Зареєструйтесь на Kaggle та оберіть один із наборів даних для виявлення аномалій. Наприклад:\n",
    "   - [Credit Card Fraud Detection](https://www.kaggle.com/mlg-ulb/creditcardfraud)\n",
    "   - [Network Intrusion Detection](https://www.kaggle.com/xyuanh/benchmarking-datasets)\n",
    "\n",
    "3. **Попередня обробка даних**:\n",
    "   - Завантажте дані та проведіть їхню початкову обробку.\n",
    "   - Масштабуйте ознаки за допомогою `StandardScaler` або `MinMaxScaler`.\n",
    "   - Розділіть дані на навчальну і тестову вибірки.\n",
    "\n",
    "4. **Методи з бібліотеки `scikit-learn`**:\n",
    "\n",
    "   - **Isolation Forest**:\n",
    "     ```\n",
    "     from sklearn.ensemble import IsolationForest\n",
    "     ```\n",
    "\n",
    "   - **One-Class SVM**:\n",
    "     ```\n",
    "     from sklearn.svm import OneClassSVM\n",
    "     ```\n",
    "\n",
    "   - **Local Outlier Factor**:\n",
    "     ```\n",
    "     from sklearn.neighbors import LocalOutlierFactor\n",
    "     ```\n",
    "\n",
    "5. **Методи на основі нейронних мереж (PyTorch)**:\n",
    "\n",
    "   Використайте автоенкодер для пошуку аномалій. Побудуйте нейронну мережу з енкодером і декодером. Під час навчання порівняйте відновлені дані з вхідними та обчисліть помилку. Записи з великою помилкою можуть бути аномаліями.\n",
    "\n",
    "   - **Реалізація автоенкодера**:\n",
    "     ```\n",
    "     import torch\n",
    "     import torch.nn as nn\n",
    "     import torch.optim as optim\n",
    "     ```\n",
    "\n",
    "6. **Оцінка результатів**:\n",
    "   Використовуйте метрики оцінки якості:\n",
    "   - `Precision`, `Recall`, `F1-score`\n",
    "   ```\n",
    "   from sklearn.metrics import classification_report\n",
    "   ```\n",
    "\n",
    "7. **Звіт**:\n",
    "   - Поясніть, який метод дав найкращі результати.\n",
    "   - Проаналізуйте, чому деякі методи працюють краще на вашому наборі даних.\n",
    "   - Оцініть можливості використання глибоких нейронних мереж (автоенкодерів) для вирішення задачі.\n",
    "\n",
    "\n",
    "### Результати, які необхідно надати:\n",
    "1. Код рішення у вигляді Jupyter Notebook з аналізом результатів та поясненнями.\n",
    "\n",
    "\n",
    "### Дедлайн:\n",
    "[23 жовтня 23:59]\n",
    "\n",
    "\n",
    "### Корисні ресурси:\n",
    "- [Документація PyTorch](https://pytorch.org/docs/stable/index.html)\n",
    "- [Документація scikit-learn](https://scikit-learn.org/stable/documentation.html)\n",
    "- [Kaggle Datasets](https://www.kaggle.com/datasets)"
   ],
   "metadata": {
    "id": "YvneQUbQRRqZ"
   }
  },
  {
   "cell_type": "code",
   "source": [
    "import numpy as np\n",
    "import pandas as pd\n",
    "import matplotlib.pyplot as plt\n",
    "from sklearn.model_selection import train_test_split\n",
    "from sklearn.preprocessing import StandardScaler\n",
    "from sklearn.ensemble import IsolationForest\n",
    "from sklearn.svm import OneClassSVM\n",
    "from sklearn.neighbors import LocalOutlierFactor\n",
    "from sklearn.metrics import (\n",
    "    classification_report, \n",
    "    precision_recall_fscore_support, \n",
    "    roc_auc_score, \n",
    "    roc_curve\n",
    ")\n",
    "import torch\n",
    "import torch.nn as nn\n",
    "import torch.optim as optim\n"
   ],
   "metadata": {
    "id": "NeqgMqm2UETO"
   },
   "outputs": [],
   "execution_count": null
  },
  {
   "metadata": {
    "ExecuteTime": {
     "end_time": "2024-11-18T01:58:01.759572Z",
     "start_time": "2024-11-18T01:58:00.544559Z"
    }
   },
   "cell_type": "code",
   "source": [
    "df = pd.read_csv('creditcard.csv')\n",
    "print(f\"Dataset shape: {df.shape}\")\n",
    "print(f\"Number of fraudulent transactions: {df['Class'].sum()}\")\n",
    "\n",
    "X = df.drop('Class', axis=1)\n",
    "y = df['Class']\n",
    "\n",
    "X_train, X_test, y_train, y_test = train_test_split(\n",
    "    X, y, test_size=0.2, random_state=42, stratify=y\n",
    ")\n",
    "\n",
    "scaler = StandardScaler()\n",
    "X_train_scaled = scaler.fit_transform(X_train)\n",
    "X_test_scaled = scaler.transform(X_test)\n",
    "print(\"\\nData preparation completed.\")\n"
   ],
   "outputs": [
    {
     "name": "stdout",
     "output_type": "stream",
     "text": [
      "Dataset shape: (284807, 31)\n",
      "Number of fraudulent transactions: 492\n",
      "\n",
      "Data preparation completed.\n"
     ]
    }
   ],
   "execution_count": 11
  },
  {
   "metadata": {
    "ExecuteTime": {
     "end_time": "2024-11-18T01:58:04.682604Z",
     "start_time": "2024-11-18T01:58:04.672827Z"
    }
   },
   "cell_type": "code",
   "source": [
    "def evaluate_model(y_true, y_pred, model_name):\n",
    "    precision, recall, f1, _ = precision_recall_fscore_support(y_true, y_pred, average='binary')\n",
    "    auc = roc_auc_score(y_true, y_pred)\n",
    "    print(f\"\\n{model_name} Results:\")\n",
    "    print(f\"Precision: {precision:.4f}, Recall: {recall:.4f}, F1-Score: {f1:.4f}, AUC: {auc:.4f}\")\n",
    "    print(classification_report(y_true, y_pred, target_names=[\"Normal\", \"Fraud\"]))\n",
    "    return auc\n"
   ],
   "outputs": [],
   "execution_count": 12
  },
  {
   "metadata": {
    "ExecuteTime": {
     "end_time": "2024-11-18T01:58:08.231299Z",
     "start_time": "2024-11-18T01:58:06.965324Z"
    }
   },
   "cell_type": "code",
   "source": [
    "print(\"\\nTraining Isolation Forest...\")\n",
    "iso_forest = IsolationForest(contamination=0.001, random_state=42)\n",
    "iso_forest.fit(X_train_scaled)\n",
    "y_pred_if = iso_forest.predict(X_test_scaled)\n",
    "y_pred_if = [1 if x == -1 else 0 for x in y_pred_if]\n",
    "evaluate_model(y_test, y_pred_if, \"Isolation Forest\")\n"
   ],
   "outputs": [
    {
     "name": "stdout",
     "output_type": "stream",
     "text": [
      "\n",
      "Training Isolation Forest...\n",
      "\n",
      "Isolation Forest Results:\n",
      "Precision: 0.3906, Recall: 0.2551, F1-Score: 0.3086, AUC: 0.6272\n",
      "              precision    recall  f1-score   support\n",
      "\n",
      "      Normal       1.00      1.00      1.00     56864\n",
      "       Fraud       0.39      0.26      0.31        98\n",
      "\n",
      "    accuracy                           1.00     56962\n",
      "   macro avg       0.69      0.63      0.65     56962\n",
      "weighted avg       1.00      1.00      1.00     56962\n",
      "\n"
     ]
    },
    {
     "data": {
      "text/plain": [
       "0.6272080969416466"
      ]
     },
     "execution_count": 13,
     "metadata": {},
     "output_type": "execute_result"
    }
   ],
   "execution_count": 13
  },
  {
   "metadata": {},
   "cell_type": "markdown",
   "source": [
    "--------------------------------------\n",
    "Isolation Forest зміг знайти деякі шахрайські транзакції, але працює далеко не ідеально. Його Recall (25.51%) свідчить про те, що лише чверть шахрайських операцій були ідентифіковані. Високий Precision (39.06%) означає, що з передбачених як шахрайські транзакції майже 40% були дійсно шахрайськими. Але загальний AUC (62.72%) свідчить про те, що модель не є хорошою\n",
    "\n",
    "\n",
    "--------------------------------------"
   ]
  },
  {
   "metadata": {
    "ExecuteTime": {
     "end_time": "2024-11-18T02:00:02.871696Z",
     "start_time": "2024-11-18T01:59:20.309121Z"
    }
   },
   "cell_type": "code",
   "source": [
    "print(\"\\nTraining One-Class SVM...\")\n",
    "ocsvm = OneClassSVM(kernel='rbf', nu=0.001)\n",
    "ocsvm.fit(X_train_scaled)\n",
    "y_pred_ocsvm = ocsvm.predict(X_test_scaled)\n",
    "y_pred_ocsvm = [1 if x == -1 else 0 for x in y_pred_ocsvm]\n",
    "evaluate_model(y_test, y_pred_ocsvm, \"One-Class SVM\")\n"
   ],
   "outputs": [
    {
     "name": "stdout",
     "output_type": "stream",
     "text": [
      "\n",
      "Training One-Class SVM...\n",
      "\n",
      "One-Class SVM Results:\n",
      "Precision: 0.0722, Recall: 0.4694, F1-Score: 0.1252, AUC: 0.7295\n",
      "              precision    recall  f1-score   support\n",
      "\n",
      "      Normal       1.00      0.99      0.99     56864\n",
      "       Fraud       0.07      0.47      0.13        98\n",
      "\n",
      "    accuracy                           0.99     56962\n",
      "   macro avg       0.54      0.73      0.56     56962\n",
      "weighted avg       1.00      0.99      0.99     56962\n",
      "\n"
     ]
    },
    {
     "data": {
      "text/plain": [
       "0.7294972680968843"
      ]
     },
     "execution_count": 15,
     "metadata": {},
     "output_type": "execute_result"
    }
   ],
   "execution_count": 15
  },
  {
   "metadata": {},
   "cell_type": "markdown",
   "source": [
    "--------------------------------------\n",
    "One-Class SVM демонструє кращий Recall (46.94%), тобто майже половина шахрайських транзакцій були знайдені, але це досягається значно нижчим Precision (7.22%), що означає велику кількість помилкових спрацьовувань (хибно позитивних результатів). Це свідчить про те, що модель схильна \"перестаратися\" у виявленні шахрайських операцій, жертвуючи точністю\n",
    "\n",
    "--------------------------------------"
   ]
  },
  {
   "metadata": {
    "ExecuteTime": {
     "end_time": "2024-11-18T02:01:26.345319Z",
     "start_time": "2024-11-18T02:01:23.816775Z"
    }
   },
   "cell_type": "code",
   "source": [
    "print(\"\\nTraining Local Outlier Factor...\")\n",
    "lof = LocalOutlierFactor(n_neighbors=20, contamination=0.001)\n",
    "y_pred_lof = lof.fit_predict(X_test_scaled)\n",
    "y_pred_lof = [1 if x == -1 else 0 for x in y_pred_lof]\n",
    "evaluate_model(y_test, y_pred_lof, \"Local Outlier Factor\")\n"
   ],
   "outputs": [
    {
     "name": "stdout",
     "output_type": "stream",
     "text": [
      "\n",
      "Training Local Outlier Factor...\n",
      "\n",
      "Local Outlier Factor Results:\n",
      "Precision: 0.0351, Recall: 0.0204, F1-Score: 0.0258, AUC: 0.5097\n",
      "              precision    recall  f1-score   support\n",
      "\n",
      "      Normal       1.00      1.00      1.00     56864\n",
      "       Fraud       0.04      0.02      0.03        98\n",
      "\n",
      "    accuracy                           1.00     56962\n",
      "   macro avg       0.52      0.51      0.51     56962\n",
      "weighted avg       1.00      1.00      1.00     56962\n",
      "\n"
     ]
    },
    {
     "data": {
      "text/plain": [
       "0.5097204716157707"
      ]
     },
     "execution_count": 16,
     "metadata": {},
     "output_type": "execute_result"
    }
   ],
   "execution_count": 16
  },
  {
   "metadata": {},
   "cell_type": "markdown",
   "source": [
    "--------------------------------------\n",
    "LOF працює майже як випадкове вгадування, про що свідчить AUC близько 50%. Recall (2.04%) надзвичайно низький, тобто модель майже не виявляє шахрайські транзакції. Водночас, Precision (3.51%) дуже низька, що свідчить про високу кількість хибних позитивних результатів. Ця модель є найгіршою з трьох\n",
    "\n",
    "--------------------------------------"
   ]
  },
  {
   "metadata": {
    "ExecuteTime": {
     "end_time": "2024-11-18T02:01:28.820942Z",
     "start_time": "2024-11-18T02:01:28.815054Z"
    }
   },
   "cell_type": "code",
   "source": [
    "class Autoencoder(nn.Module):\n",
    "    def __init__(self, input_dim):\n",
    "        super(Autoencoder, self).__init__()\n",
    "        self.encoder = nn.Sequential(\n",
    "            nn.Linear(input_dim, 64),\n",
    "            nn.ReLU(),\n",
    "            nn.Dropout(0.1),\n",
    "            nn.Linear(64, 32),\n",
    "            nn.ReLU(),\n",
    "            nn.Linear(32, 16),\n",
    "        )\n",
    "        self.decoder = nn.Sequential(\n",
    "            nn.Linear(16, 32),\n",
    "            nn.ReLU(),\n",
    "            nn.Linear(32, 64),\n",
    "            nn.ReLU(),\n",
    "            nn.Linear(64, input_dim)\n",
    "        )\n",
    "\n",
    "    def forward(self, x):\n",
    "        encoded = self.encoder(x)\n",
    "        decoded = self.decoder(encoded)\n",
    "        return decoded\n"
   ],
   "outputs": [],
   "execution_count": 17
  },
  {
   "metadata": {
    "ExecuteTime": {
     "end_time": "2024-11-18T02:10:16.767719Z",
     "start_time": "2024-11-18T02:09:52.127362Z"
    }
   },
   "cell_type": "code",
   "source": [
    "print(\"\\nTraining Autoencoder...\")\n",
    "device = torch.device(\"cuda\" if torch.cuda.is_available() else \"cpu\")\n",
    "model = Autoencoder(X_train_scaled.shape[1]).to(device)\n",
    "criterion = nn.MSELoss()\n",
    "optimizer = optim.Adam(model.parameters(), lr=0.001)\n",
    "\n",
    "X_train_tensor = torch.FloatTensor(X_train_scaled).to(device)\n",
    "X_test_tensor = torch.FloatTensor(X_test_scaled).to(device)\n",
    "\n",
    "epochs = 50\n",
    "batch_size = 256\n",
    "model.train()\n",
    "for epoch in range(epochs):\n",
    "    for i in range(0, len(X_train_tensor), batch_size):\n",
    "        batch = X_train_tensor[i:i+batch_size]\n",
    "        optimizer.zero_grad()\n",
    "        outputs = model(batch)\n",
    "        loss = criterion(outputs, batch)\n",
    "        loss.backward()\n",
    "        optimizer.step()\n",
    "    if (epoch + 1) % 10 == 0:\n",
    "        print(f'Epoch [{epoch+1}/{epochs}], Loss: {loss.item():.4f}')\n"
   ],
   "outputs": [
    {
     "name": "stdout",
     "output_type": "stream",
     "text": [
      "\n",
      "Training Autoencoder...\n",
      "Epoch [10/50], Loss: 0.0670\n",
      "Epoch [20/50], Loss: 0.0396\n",
      "Epoch [30/50], Loss: 0.0268\n",
      "Epoch [40/50], Loss: 0.0199\n",
      "Epoch [50/50], Loss: 0.0245\n"
     ]
    }
   ],
   "execution_count": 21
  },
  {
   "metadata": {},
   "cell_type": "markdown",
   "source": [
    "--------------------------------------\n",
    "\n",
    "Автоенкодер тренувався протягом 50 епох, і з кожною епохою значення Loss зменшувалося, що вказує на поступове вдосконалення моделі в реконструкції нормальних транзакцій\n",
    "\n",
    "--------------------------------------"
   ]
  },
  {
   "metadata": {
    "ExecuteTime": {
     "end_time": "2024-11-18T02:01:59.176418Z",
     "start_time": "2024-11-18T02:01:59.022544Z"
    }
   },
   "cell_type": "code",
   "source": [
    "model.eval()\n",
    "with torch.no_grad():\n",
    "    X_test_reconstructed = model(X_test_tensor).cpu().numpy()\n",
    "\n",
    "test_mse = np.mean(np.power(X_test_scaled - X_test_reconstructed, 2), axis=1)\n",
    "fpr, tpr, thresholds = roc_curve(y_test, test_mse)\n",
    "optimal_idx = np.argmax(tpr - fpr)\n",
    "optimal_threshold = thresholds[optimal_idx]\n",
    "\n",
    "y_pred_autoencoder = (test_mse > optimal_threshold).astype(int)\n",
    "evaluate_model(y_test, y_pred_autoencoder, \"Autoencoder\")\n"
   ],
   "outputs": [
    {
     "name": "stdout",
     "output_type": "stream",
     "text": [
      "\n",
      "Autoencoder Results:\n",
      "Precision: 0.0211, Recall: 0.8878, F1-Score: 0.0411, AUC: 0.9083\n",
      "              precision    recall  f1-score   support\n",
      "\n",
      "      Normal       1.00      0.93      0.96     56864\n",
      "       Fraud       0.02      0.89      0.04        98\n",
      "\n",
      "    accuracy                           0.93     56962\n",
      "   macro avg       0.51      0.91      0.50     56962\n",
      "weighted avg       1.00      0.93      0.96     56962\n",
      "\n"
     ]
    },
    {
     "data": {
      "text/plain": [
       "0.908319025415456"
      ]
     },
     "execution_count": 19,
     "metadata": {},
     "output_type": "execute_result"
    }
   ],
   "execution_count": 19
  },
  {
   "metadata": {},
   "cell_type": "markdown",
   "source": [
    "--------------------------------------\n",
    "\n",
    "Результати показують, що автоенкодер добре знаходить шахрайські транзакції, але при цьому часто помилково позначає нормальні транзакції як шахрайські\n",
    "\n",
    "--------------------------------------"
   ]
  },
  {
   "metadata": {
    "ExecuteTime": {
     "end_time": "2024-11-18T02:02:02.494002Z",
     "start_time": "2024-11-18T02:02:01.963538Z"
    }
   },
   "cell_type": "code",
   "source": [
    "plt.plot(fpr, tpr, label=\"Autoencoder ROC curve\")\n",
    "plt.xlabel(\"False Positive Rate\")\n",
    "plt.ylabel(\"True Positive Rate\")\n",
    "plt.title(\"ROC Curve for Autoencoder\")\n",
    "plt.legend()\n",
    "plt.show()\n"
   ],
   "outputs": [
    {
     "data": {
      "text/plain": [
       "<Figure size 640x480 with 1 Axes>"
      ],
      "image/png": "[encoded data removed]"
     },
     "metadata": {},
     "output_type": "display_data"
    }
   ],
   "execution_count": 20
  },
  {
   "metadata": {},
   "cell_type": "markdown",
   "source": [
    "--------------------------------------\n",
    "\n",
    "Графік ROC автокодера показує високу ефективність моделі з великою площею під кривою. Модель добре розрізняє класи з низьким рівнем помилкових спрацьовувань, що свідчить про її придатність для задач виявлення аномалій.\n",
    "\n",
    "--------------------------------------"
   ]
  }
 ]
}
